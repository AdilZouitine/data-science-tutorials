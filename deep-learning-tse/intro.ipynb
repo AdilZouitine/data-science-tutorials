{
 "cells": [
  {
   "cell_type": "markdown",
   "metadata": {
    "slideshow": {
     "slide_type": "slide"
    }
   },
   "source": [
    "# Yet another practical introduction to deep learning\n",
    "\n",
    "## Generalities\n",
    "\n",
    "### Max Halford\n",
    "\n",
    "#### Toulouse School of Economics Master's degree"
   ]
  },
  {
   "cell_type": "markdown",
   "metadata": {
    "slideshow": {
     "slide_type": "slide"
    }
   },
   "source": [
    "## Information\n",
    "\n",
    "- We have a lot to cover\n",
    "- Please ask questions\n",
    "- The slides are available [here](https://github.com/MaxHalford/data-science-tutorials)\n",
    "- For this part of the course, you'll be graded by having to write a short essay\n",
    "- All the learning material you need (for free!):\n",
    "    1. [Stanford CS230 Deep Learning -- Andrew Ng and Kian Katanforoosh](https://cs231n.github.io/)\n",
    "    2. [The Deep Learning textbook -- Ian Goodfellow, Yoshua Bengio and Aaron Courville](http://www.deeplearningbook.org/)\n",
    "    3. [Deep Learning with Python -- Francois Chollet](http://faculty.neu.edu.cn/yury/AAI/Textbook/Deep%20Learning%20with%20Python.pdf)"
   ]
  },
  {
   "cell_type": "code",
   "execution_count": 1,
   "metadata": {},
   "outputs": [
    {
     "name": "stdout",
     "output_type": "stream",
     "text": [
      "CPython 3.8.3\n",
      "IPython 7.16.1\n",
      "\n",
      "imageio 2.9.0\n",
      "keras 2.4.3\n",
      "tensorflow 2.3.1\n",
      "sklearn 0.23.1\n",
      "matplotlib 3.2.2\n",
      "\n",
      "compiler   : Clang 10.0.0 \n",
      "system     : Darwin\n",
      "release    : 19.4.0\n",
      "machine    : x86_64\n",
      "processor  : i386\n",
      "CPU cores  : 4\n",
      "interpreter: 64bit\n"
     ]
    }
   ],
   "source": [
    "%matplotlib inline\n",
    "%load_ext watermark\n",
    "%watermark -m -v -p imageio,keras,tensorflow,sklearn,matplotlib"
   ]
  },
  {
   "cell_type": "markdown",
   "metadata": {
    "slideshow": {
     "slide_type": "slide"
    }
   },
   "source": [
    "## What is deep learning?\n",
    "\n",
    "- Subcase of machine learning, which is itself a subcase of artificial intelligence\n",
    "- Artificial intelligence is about understanding concepts\n",
    "- Machine learning is about learning concepts through example\n",
    "- Deep learning is a specific machine learning method which works (very) well in some cases "
   ]
  },
  {
   "cell_type": "markdown",
   "metadata": {
    "slideshow": {
     "slide_type": "slide"
    }
   },
   "source": [
    "## The fit/predict paradigm\n",
    "\n",
    "Our goal is to learn from a set of training examples `(X_train, y_train)` and to predict the (unknown) outcome of a test set `X_test`.\n",
    "\n",
    "    X_train, y_train, X_test = split(dataset)\n",
    "    \n",
    "`X_train` and `X_test` are the inputs, they can be images, text, tabular data, graphs... `y_train` is the output, it can be a real number, a class, multiple numbers, multiple classes... As we will see deep learning is very flexible, and a lot of cases can be handled.\n",
    "\n",
    "We \"train\" (or \"fit\", it's the same meaning) a model by showing it examples.\n",
    "\n",
    "    model = model.fit(X_train, y_train)\n",
    "    \n",
    "We \"predict\" by running test examples through the model and getting outputs.\n",
    "\n",
    "    y_pred = model.predict(X_test)\n",
    "    \n",
    "Note that `X_train`, `X_test`, and `y_train` can be stored in memory, or can be streamed from the disk (more about this later)."
   ]
  },
  {
   "cell_type": "markdown",
   "metadata": {
    "slideshow": {
     "slide_type": "slide"
    }
   },
   "source": [
    "## Learning tasks\n",
    "\n",
    "In machine learning, we teach a learning algorithm to learn to perform a task by showing it examples. We want the learning algorithm to find general patterns in what it is shown, and not to memorize. We typically represent an example with a vector $x$. If we're doing supervised learning then there will also be an accompanying label $y$. Here are a few common tasks:\n",
    "\n",
    "- **Classification**: the algorithm has to predict one of $k$ possible classes. Binary classification is special case where $k = 1$. In multi-output classification, there can be more than one class.\n",
    "- **Regression**: the algorithm has to predict a real-valued output. In multi-output regression, there can be multiple real-valued outputs to predict.\n",
    "- **Denoising**: the algorithm takes as input a noisy vector $\\tilde{x}$, and has to produce a clean output vector $x$. \n",
    "- **Auto-encoding**: the algorithm takes as input $x$, and has to predict the exact same output $x$. It is however constrained by it's capacity. If the algorithm doesn't manage to reproduce an example, then that can be indicator that the input is an outlier/anomaly with respect to the training data.\n",
    "- **Density estimation**: the algorithm has to output the density $p$ of a vector $x$. In effect the learning algorithm acts as a non-parametric probability distribution that fits the data."
   ]
  },
  {
   "cell_type": "markdown",
   "metadata": {
    "slideshow": {
     "slide_type": "slide"
    }
   },
   "source": [
    "## Evaluating performance\n",
    "\n",
    "Knowing how well a model performs is very important. To do so, we can:\n",
    "\n",
    "1. Split the training set in two:\n",
    "    1. (`X_fit`, `y_fit`), the learning set\n",
    "    2. (`X_val`, `y_val`), the validation set\n",
    "2. Train the model on (`X_fit`, `y_fit`)\n",
    "3. Obtain predictions `y_pred` for `X_val`\n",
    "4. Calculate the error by comparing `y_pred` and `y_val`\n",
    "\n",
    "We thus look at the performance of the model on unseen data. Indeed, our goal is to have a model that generalizes well. This is very important. \n",
    "\n",
    "We can repeat the above process many times with random subsets and average the error scores. This is called [cross-validation](https://www.wikiwand.com/en/Cross-validation_(statistics)) and is very important in practice."
   ]
  },
  {
   "cell_type": "markdown",
   "metadata": {
    "slideshow": {
     "slide_type": "slide"
    }
   },
   "source": [
    "## A simple example: MNIST digits classification"
   ]
  },
  {
   "cell_type": "code",
   "execution_count": 2,
   "metadata": {
    "slideshow": {
     "slide_type": "-"
    }
   },
   "outputs": [],
   "source": [
    "from sklearn import datasets\n",
    "\n",
    "X, y = datasets.fetch_openml('mnist_784', version=1, return_X_y=True)  # Takes a bit of time"
   ]
  },
  {
   "cell_type": "code",
   "execution_count": 3,
   "metadata": {},
   "outputs": [
    {
     "data": {
      "text/plain": [
       "<matplotlib.image.AxesImage at 0x1459f30d0>"
      ]
     },
     "execution_count": 3,
     "metadata": {},
     "output_type": "execute_result"
    },
    {
     "data": {
      "image/png": "[encoded data removed]",
      "text/plain": [
       "<Figure size 432x288 with 1 Axes>"
      ]
     },
     "metadata": {
      "needs_background": "light"
     },
     "output_type": "display_data"
    }
   ],
   "source": [
    "import matplotlib.pyplot as plt\n",
    "\n",
    "%matplotlib inline\n",
    "\n",
    "plt.imshow(X[0].reshape(28, 28))"
   ]
  },
  {
   "cell_type": "code",
   "execution_count": 4,
   "metadata": {},
   "outputs": [
    {
     "name": "stdout",
     "output_type": "stream",
     "text": [
      "There are 70000 images\n",
      "Each image is composed of 784 pixels\n"
     ]
    }
   ],
   "source": [
    "n_images, n_pixels = X.shape\n",
    "\n",
    "print(f'There are {n_images} images')\n",
    "print(f'Each image is composed of {n_pixels} pixels')"
   ]
  },
  {
   "cell_type": "code",
   "execution_count": 5,
   "metadata": {},
   "outputs": [
    {
     "data": {
      "text/plain": [
       "array(['5', '0', '4', ..., '4', '5', '6'], dtype=object)"
      ]
     },
     "execution_count": 5,
     "metadata": {},
     "output_type": "execute_result"
    }
   ],
   "source": [
    "y"
   ]
  },
  {
   "cell_type": "markdown",
   "metadata": {},
   "source": [
    "We one-hot encode the labels because that's the only to do multi-class classification with neural networks."
   ]
  },
  {
   "cell_type": "code",
   "execution_count": 6,
   "metadata": {},
   "outputs": [
    {
     "data": {
      "text/plain": [
       "array([[0., 0., 0., ..., 0., 0., 0.],\n",
       "       [1., 0., 0., ..., 0., 0., 0.],\n",
       "       [0., 0., 0., ..., 0., 0., 0.],\n",
       "       ...,\n",
       "       [0., 0., 0., ..., 0., 0., 0.],\n",
       "       [0., 0., 0., ..., 0., 0., 0.],\n",
       "       [0., 0., 0., ..., 0., 0., 0.]], dtype=float32)"
      ]
     },
     "execution_count": 6,
     "metadata": {},
     "output_type": "execute_result"
    }
   ],
   "source": [
    "from keras import utils\n",
    "\n",
    "y_one_hot = utils.to_categorical(y, num_classes=10)\n",
    "y_one_hot"
   ]
  },
  {
   "cell_type": "markdown",
   "metadata": {},
   "source": [
    "Let's the split the data."
   ]
  },
  {
   "cell_type": "code",
   "execution_count": 7,
   "metadata": {},
   "outputs": [
    {
     "data": {
      "text/plain": [
       "array([  0.,   0.,   0.,   0.,   0.,   0.,   0.,   0.,   0.,   0.,   0.,\n",
       "         0.,   0.,   0.,   0.,   0.,   0.,   0.,   0.,   0.,   0.,   0.,\n",
       "         0.,   0.,   0.,   0.,   0.,   0.,   0.,   0.,   0.,   0.,   0.,\n",
       "         0.,   0.,   0.,   0.,   0.,   0.,   0.,   0.,   0.,   0.,   0.,\n",
       "         0.,   0.,   0.,   0.,   0.,   0.,   0.,   0.,   0.,   0.,   0.,\n",
       "         0.,   0.,   0.,   0.,   0.,   0.,   0.,   0.,   0.,   0.,   0.,\n",
       "         0.,   0.,   0.,   0.,   0.,   0.,   0.,   0.,   0.,   0.,   0.,\n",
       "         0.,   0.,   0.,   0.,   0.,   0.,   0.,   0.,   0.,   0.,   0.,\n",
       "         0.,   0.,   0.,   0.,   0.,   0.,   0.,   0.,   0.,   0.,   0.,\n",
       "         0.,   0.,   0.,   0.,   0.,   0.,   0.,   0.,   0.,   0.,   0.,\n",
       "         0.,   0.,   0.,   0.,   0.,   0.,   0.,   0.,   0.,   0.,   0.,\n",
       "         0.,   0.,   0.,   0.,   0.,   0.,   0.,   0.,   0.,   0.,   0.,\n",
       "         0.,   0.,   0.,   0.,   0.,   0.,   0.,   0.,   0.,   0.,   0.,\n",
       "         0.,   0.,   0.,   0.,   0.,   0.,   0.,   0.,   0.,   3.,  18.,\n",
       "        18.,  18., 126., 136., 175.,  26., 166., 255., 247., 127.,   0.,\n",
       "         0.,   0.,   0.,   0.,   0.,   0.,   0.,   0.,   0.,   0.,   0.,\n",
       "        30.,  36.,  94., 154., 170., 253., 253., 253., 253., 253., 225.,\n",
       "       172., 253., 242., 195.,  64.,   0.,   0.,   0.,   0.,   0.,   0.,\n",
       "         0.,   0.,   0.,   0.,   0.,  49., 238., 253., 253., 253., 253.,\n",
       "       253., 253., 253., 253., 251.,  93.,  82.,  82.,  56.,  39.,   0.,\n",
       "         0.,   0.,   0.,   0.,   0.,   0.,   0.,   0.,   0.,   0.,   0.,\n",
       "        18., 219., 253., 253., 253., 253., 253., 198., 182., 247., 241.,\n",
       "         0.,   0.,   0.,   0.,   0.,   0.,   0.,   0.,   0.,   0.,   0.,\n",
       "         0.,   0.,   0.,   0.,   0.,   0.,   0.,  80., 156., 107., 253.,\n",
       "       253., 205.,  11.,   0.,  43., 154.,   0.,   0.,   0.,   0.,   0.,\n",
       "         0.,   0.,   0.,   0.,   0.,   0.,   0.,   0.,   0.,   0.,   0.,\n",
       "         0.,   0.,   0.,  14.,   1., 154., 253.,  90.,   0.,   0.,   0.,\n",
       "         0.,   0.,   0.,   0.,   0.,   0.,   0.,   0.,   0.,   0.,   0.,\n",
       "         0.,   0.,   0.,   0.,   0.,   0.,   0.,   0.,   0.,   0.,   0.,\n",
       "       139., 253., 190.,   2.,   0.,   0.,   0.,   0.,   0.,   0.,   0.,\n",
       "         0.,   0.,   0.,   0.,   0.,   0.,   0.,   0.,   0.,   0.,   0.,\n",
       "         0.,   0.,   0.,   0.,   0.,   0.,  11., 190., 253.,  70.,   0.,\n",
       "         0.,   0.,   0.,   0.,   0.,   0.,   0.,   0.,   0.,   0.,   0.,\n",
       "         0.,   0.,   0.,   0.,   0.,   0.,   0.,   0.,   0.,   0.,   0.,\n",
       "         0.,   0.,  35., 241., 225., 160., 108.,   1.,   0.,   0.,   0.,\n",
       "         0.,   0.,   0.,   0.,   0.,   0.,   0.,   0.,   0.,   0.,   0.,\n",
       "         0.,   0.,   0.,   0.,   0.,   0.,   0.,   0.,   0.,  81., 240.,\n",
       "       253., 253., 119.,  25.,   0.,   0.,   0.,   0.,   0.,   0.,   0.,\n",
       "         0.,   0.,   0.,   0.,   0.,   0.,   0.,   0.,   0.,   0.,   0.,\n",
       "         0.,   0.,   0.,   0.,   0.,  45., 186., 253., 253., 150.,  27.,\n",
       "         0.,   0.,   0.,   0.,   0.,   0.,   0.,   0.,   0.,   0.,   0.,\n",
       "         0.,   0.,   0.,   0.,   0.,   0.,   0.,   0.,   0.,   0.,   0.,\n",
       "         0.,  16.,  93., 252., 253., 187.,   0.,   0.,   0.,   0.,   0.,\n",
       "         0.,   0.,   0.,   0.,   0.,   0.,   0.,   0.,   0.,   0.,   0.,\n",
       "         0.,   0.,   0.,   0.,   0.,   0.,   0.,   0.,   0., 249., 253.,\n",
       "       249.,  64.,   0.,   0.,   0.,   0.,   0.,   0.,   0.,   0.,   0.,\n",
       "         0.,   0.,   0.,   0.,   0.,   0.,   0.,   0.,   0.,   0.,   0.,\n",
       "         0.,  46., 130., 183., 253., 253., 207.,   2.,   0.,   0.,   0.,\n",
       "         0.,   0.,   0.,   0.,   0.,   0.,   0.,   0.,   0.,   0.,   0.,\n",
       "         0.,   0.,   0.,   0.,   0.,  39., 148., 229., 253., 253., 253.,\n",
       "       250., 182.,   0.,   0.,   0.,   0.,   0.,   0.,   0.,   0.,   0.,\n",
       "         0.,   0.,   0.,   0.,   0.,   0.,   0.,   0.,   0.,  24., 114.,\n",
       "       221., 253., 253., 253., 253., 201.,  78.,   0.,   0.,   0.,   0.,\n",
       "         0.,   0.,   0.,   0.,   0.,   0.,   0.,   0.,   0.,   0.,   0.,\n",
       "         0.,   0.,  23.,  66., 213., 253., 253., 253., 253., 198.,  81.,\n",
       "         2.,   0.,   0.,   0.,   0.,   0.,   0.,   0.,   0.,   0.,   0.,\n",
       "         0.,   0.,   0.,   0.,   0.,   0.,  18., 171., 219., 253., 253.,\n",
       "       253., 253., 195.,  80.,   9.,   0.,   0.,   0.,   0.,   0.,   0.,\n",
       "         0.,   0.,   0.,   0.,   0.,   0.,   0.,   0.,   0.,   0.,  55.,\n",
       "       172., 226., 253., 253., 253., 253., 244., 133.,  11.,   0.,   0.,\n",
       "         0.,   0.,   0.,   0.,   0.,   0.,   0.,   0.,   0.,   0.,   0.,\n",
       "         0.,   0.,   0.,   0.,   0., 136., 253., 253., 253., 212., 135.,\n",
       "       132.,  16.,   0.,   0.,   0.,   0.,   0.,   0.,   0.,   0.,   0.,\n",
       "         0.,   0.,   0.,   0.,   0.,   0.,   0.,   0.,   0.,   0.,   0.,\n",
       "         0.,   0.,   0.,   0.,   0.,   0.,   0.,   0.,   0.,   0.,   0.,\n",
       "         0.,   0.,   0.,   0.,   0.,   0.,   0.,   0.,   0.,   0.,   0.,\n",
       "         0.,   0.,   0.,   0.,   0.,   0.,   0.,   0.,   0.,   0.,   0.,\n",
       "         0.,   0.,   0.,   0.,   0.,   0.,   0.,   0.,   0.,   0.,   0.,\n",
       "         0.,   0.,   0.,   0.,   0.,   0.,   0.,   0.,   0.,   0.,   0.,\n",
       "         0.,   0.,   0.,   0.,   0.,   0.,   0.,   0.,   0.,   0.,   0.,\n",
       "         0.,   0.,   0.,   0.,   0.,   0.,   0.,   0.,   0.,   0.,   0.,\n",
       "         0.,   0.,   0.])"
      ]
     },
     "execution_count": 7,
     "metadata": {},
     "output_type": "execute_result"
    }
   ],
   "source": [
    "def split(X, y):\n",
    "    return (\n",
    "        X[:60000],  # X_train is the first 60.000 images\n",
    "        X[-10000:],  # X_test is the last 10.000 images\n",
    "        y[:60000],  # y_train is the first 60.000 labels\n",
    "        y[-10000:]  # y_test is the last 10.000 images\n",
    "    )\n",
    "\n",
    "X_fit, X_val, y_fit, y_val = split(X, y_one_hot)\n",
    "X_fit[0]"
   ]
  },
  {
   "cell_type": "markdown",
   "metadata": {},
   "source": [
    "Normalize the data."
   ]
  },
  {
   "cell_type": "code",
   "execution_count": 8,
   "metadata": {},
   "outputs": [],
   "source": [
    "X_fit = utils.normalize(X_fit)\n",
    "X_val = utils.normalize(X_val)"
   ]
  },
  {
   "cell_type": "markdown",
   "metadata": {},
   "source": [
    "Let's define a neural network."
   ]
  },
  {
   "cell_type": "code",
   "execution_count": 9,
   "metadata": {},
   "outputs": [],
   "source": [
    "from keras import layers\n",
    "from keras import models\n",
    "\n",
    "model = models.Sequential([\n",
    "    layers.Dense(64, activation='relu', input_shape=(784,)),  # 784 is the number of pixels in each image\n",
    "    layers.Dense(10, activation='softmax'),\n",
    "])\n",
    "\n",
    "model.compile(\n",
    "    optimizer='rmsprop',\n",
    "    loss='categorical_crossentropy',\n",
    "    metrics=['accuracy']\n",
    ")"
   ]
  },
  {
   "cell_type": "markdown",
   "metadata": {},
   "source": [
    "Let's now train the model on the learning set."
   ]
  },
  {
   "cell_type": "code",
   "execution_count": 10,
   "metadata": {},
   "outputs": [
    {
     "name": "stdout",
     "output_type": "stream",
     "text": [
      "Epoch 1/5\n",
      "1875/1875 [==============================] - 5s 3ms/step - loss: 0.4913 - accuracy: 0.8811\n",
      "Epoch 2/5\n",
      "1875/1875 [==============================] - 3s 2ms/step - loss: 0.2588 - accuracy: 0.9254\n",
      "Epoch 3/5\n",
      "1875/1875 [==============================] - 4s 2ms/step - loss: 0.2118 - accuracy: 0.9391\n",
      "Epoch 4/5\n",
      "1875/1875 [==============================] - 4s 2ms/step - loss: 0.1805 - accuracy: 0.9477\n",
      "Epoch 5/5\n",
      "1875/1875 [==============================] - 4s 2ms/step - loss: 0.1575 - accuracy: 0.9538\n"
     ]
    }
   ],
   "source": [
    "model.fit(X_fit, y_fit, epochs=5, batch_size=32);"
   ]
  },
  {
   "cell_type": "markdown",
   "metadata": {},
   "source": [
    "Let's make predictions on the validation set."
   ]
  },
  {
   "cell_type": "code",
   "execution_count": 11,
   "metadata": {},
   "outputs": [
    {
     "name": "stdout",
     "output_type": "stream",
     "text": [
      "Accuracy score on validation set is 0.9557\n"
     ]
    }
   ],
   "source": [
    "from sklearn import metrics\n",
    "\n",
    "y_pred = model.predict(X_val)\n",
    "y_pred_labels = y_pred.argmax(axis=1)\n",
    "\n",
    "y_val_labels = y_val.argmax(axis=1)\n",
    "\n",
    "score = metrics.accuracy_score(y_val_labels, y_pred_labels)\n",
    "print(f'Accuracy score on validation set is {score}')"
   ]
  },
  {
   "cell_type": "code",
   "execution_count": 12,
   "metadata": {},
   "outputs": [
    {
     "data": {
      "text/plain": [
       "<matplotlib.image.AxesImage at 0x1205bcc70>"
      ]
     },
     "execution_count": 12,
     "metadata": {},
     "output_type": "execute_result"
    },
    {
     "data": {
      "image/png": "[encoded data removed]",
      "text/plain": [
       "<Figure size 432x288 with 1 Axes>"
      ]
     },
     "metadata": {
      "needs_background": "light"
     },
     "output_type": "display_data"
    }
   ],
   "source": [
    "\n",
    "x = X_val[y_pred_labels != y_val_labels][2]\n",
    "\n",
    "plt.imshow(x.reshape(28, 28))"
   ]
  },
  {
   "cell_type": "code",
   "execution_count": 13,
   "metadata": {},
   "outputs": [
    {
     "data": {
      "text/plain": [
       "5"
      ]
     },
     "execution_count": 13,
     "metadata": {},
     "output_type": "execute_result"
    }
   ],
   "source": [
    "y_pred_labels[y_pred_labels != y_val_labels][2]"
   ]
  },
  {
   "cell_type": "markdown",
   "metadata": {},
   "source": [
    "The validation score is similar to the training score, which is a good sign."
   ]
  },
  {
   "cell_type": "markdown",
   "metadata": {
    "slideshow": {
     "slide_type": "slide"
    }
   },
   "source": [
    "## Overfitting"
   ]
  },
  {
   "cell_type": "code",
   "execution_count": 14,
   "metadata": {},
   "outputs": [
    {
     "name": "stdout",
     "output_type": "stream",
     "text": [
      "Epoch 1/20\n",
      "1875/1875 [==============================] - 31s 16ms/step - loss: 0.2274 - accuracy: 0.9317\n",
      "Epoch 2/20\n",
      "1875/1875 [==============================] - 28s 15ms/step - loss: 0.0932 - accuracy: 0.9722\n",
      "Epoch 3/20\n",
      "1875/1875 [==============================] - 23s 13ms/step - loss: 0.0670 - accuracy: 0.9813\n",
      "Epoch 4/20\n",
      "1875/1875 [==============================] - 25s 13ms/step - loss: 0.0536 - accuracy: 0.9852\n",
      "Epoch 5/20\n",
      "1875/1875 [==============================] - 28s 15ms/step - loss: 0.0436 - accuracy: 0.9882\n",
      "Epoch 6/20\n",
      "1875/1875 [==============================] - 36s 19ms/step - loss: 0.0356 - accuracy: 0.9904\n",
      "Epoch 7/20\n",
      "1875/1875 [==============================] - 24s 13ms/step - loss: 0.0311 - accuracy: 0.9917\n",
      "Epoch 8/20\n",
      "1875/1875 [==============================] - 27s 15ms/step - loss: 0.0248 - accuracy: 0.9931\n",
      "Epoch 9/20\n",
      "1875/1875 [==============================] - 27s 15ms/step - loss: 0.0214 - accuracy: 0.9942\n",
      "Epoch 10/20\n",
      "1875/1875 [==============================] - 42s 23ms/step - loss: 0.0183 - accuracy: 0.9949\n",
      "Epoch 11/20\n",
      "1875/1875 [==============================] - 35s 19ms/step - loss: 0.0168 - accuracy: 0.9959\n",
      "Epoch 12/20\n",
      "1875/1875 [==============================] - 29s 15ms/step - loss: 0.0150 - accuracy: 0.9966\n",
      "Epoch 13/20\n",
      "1875/1875 [==============================] - 34s 18ms/step - loss: 0.0125 - accuracy: 0.9968\n",
      "Epoch 14/20\n",
      "1875/1875 [==============================] - 35s 19ms/step - loss: 0.0101 - accuracy: 0.9972\n",
      "Epoch 15/20\n",
      "1875/1875 [==============================] - 46s 25ms/step - loss: 0.0115 - accuracy: 0.9971\n",
      "Epoch 16/20\n",
      "1875/1875 [==============================] - 33s 18ms/step - loss: 0.0079 - accuracy: 0.9979\n",
      "Epoch 17/20\n",
      "1875/1875 [==============================] - 28s 15ms/step - loss: 0.0089 - accuracy: 0.9978\n",
      "Epoch 18/20\n",
      "1875/1875 [==============================] - 31s 17ms/step - loss: 0.0083 - accuracy: 0.9978\n",
      "Epoch 19/20\n",
      "1875/1875 [==============================] - 24s 13ms/step - loss: 0.0061 - accuracy: 0.9984\n",
      "Epoch 20/20\n",
      "1875/1875 [==============================] - 25s 14ms/step - loss: 0.0063 - accuracy: 0.9982\n"
     ]
    },
    {
     "data": {
      "text/plain": [
       "0.9783"
      ]
     },
     "execution_count": 14,
     "metadata": {},
     "output_type": "execute_result"
    }
   ],
   "source": [
    "model = models.Sequential([\n",
    "    layers.Dense(512, activation='relu', input_shape=(784,)),\n",
    "    layers.Dense(512, activation='relu'),\n",
    "    layers.Dense(10, activation='softmax'),\n",
    "])\n",
    "\n",
    "model.compile(\n",
    "    optimizer='rmsprop',\n",
    "    loss='categorical_crossentropy',\n",
    "    metrics=['accuracy']\n",
    ")\n",
    "\n",
    "model.fit(X_fit, y_fit, epochs=20, batch_size=32);\n",
    "\n",
    "y_pred = model.predict(X_val)\n",
    "y_pred_labels = y_pred.argmax(axis=1)\n",
    "y_val_labels = y_val.argmax(axis=1)\n",
    "\n",
    "score = metrics.accuracy_score(y_val_labels, y_pred_labels)\n",
    "score"
   ]
  },
  {
   "cell_type": "markdown",
   "metadata": {
    "slideshow": {
     "slide_type": "slide"
    }
   },
   "source": [
    "## Keras\n",
    "\n",
    "- High-level Python library for building and training neural networks\n",
    "- Started in March 2015\n",
    "- Abstracts a lot of complexity\n",
    "- Doesn't do any compute, it's simply an abstraction on top of Tensorflow/Theano\n",
    "- Very clean API interface\n",
    "- Encourages you to think in terms of modules\n",
    "- PyTorch is the main rival, both have their pros and cons\n",
    "- [Documentation](https://keras.io/)"
   ]
  },
  {
   "cell_type": "markdown",
   "metadata": {
    "slideshow": {
     "slide_type": "slide"
    }
   },
   "source": [
    "## Reminder about backpropagation\n",
    "\n",
    "1. Your network is nothing more than a set of weights $w_i$\n",
    "2. You have an input $x_i$ and a known output $y_i$\n",
    "3. The network processes your input and produces an estimated output $\\hat{y}_i$\n",
    "4. You can calculate by how much the network is wrong by using a loss function $L(y_i, \\hat{y}_i)$\n",
    "5. The loss function if differentiable, and so we can we obtain the gradient $g_i$ with respect to each weight\n",
    "6. We can then modify each weight by using the gradient\n",
    "\n",
    "Backpropagation is the mechanism which will calculate the gradient $g_i$. If you're not interested in how it works, you can treat it as a blackbox and come back to it later on. Check out [this great demo](https://developers-dot-devsite-v2-prod.appspot.com/machine-learning/crash-course/backprop-scroll).\n",
    "\n",
    "https://developers-dot-devsite-v2-prod.appspot.com/machine-learning/crash-course/backprop-scroll"
   ]
  },
  {
   "cell_type": "markdown",
   "metadata": {
    "slideshow": {
     "slide_type": "slide"
    }
   },
   "source": [
    "## Stochastic gradient descent\n",
    "\n",
    "1. When we call `fit`, the neural network goes through each example in the dataset\n",
    "2. For each observation $(x_i, y_i)$, the gradient $\\nabla_i$ is obtained\n",
    "3. An optimizer takes care of obtaining the new weights $w_{i+1}$ by modifying the current weights $w_i$ and using the current gradient $\\nabla_i$\n",
    "4. We can loop multiple times through the dataset; each iteration is called an **epoch**\n",
    "\n",
    "A general formulation of stochastic gradient descent (SGD):\n",
    "\n",
    "$$w_{i+1} \\leftarrow f(w_i, \\nabla_i, \\eta_i)$$\n",
    "\n",
    "$\\eta_i$ is the learning rate at iteration $i$, it's *extremely* important and we'll come back to it very soon."
   ]
  },
  {
   "cell_type": "markdown",
   "metadata": {
    "slideshow": {
     "slide_type": "slide"
    }
   },
   "source": [
    "## Loss function\n",
    "\n",
    "The list of loss functions implemented in Keras is available [here](https://keras.io/losses/). You can set the loss function via the `loss` parameter of the `compile` method.\n",
    "\n",
    "There are many loss functions to choose. Choosing one mostly depends on what you're trying to do."
   ]
  },
  {
   "cell_type": "code",
   "execution_count": 15,
   "metadata": {},
   "outputs": [],
   "source": [
    "from keras import losses\n",
    "\n",
    "# MSE loss\n",
    "model.compile(\n",
    "    loss=losses.mean_squared_error,\n",
    "    optimizer='sgd'\n",
    ")\n",
    "\n",
    "# Same thing\n",
    "model.compile(\n",
    "    loss='mean_squared_error',\n",
    "    optimizer='sgd'\n",
    ")\n",
    "\n",
    "# Same thing\n",
    "model.compile(\n",
    "    loss='mse',\n",
    "    optimizer='sgd'\n",
    ")"
   ]
  },
  {
   "cell_type": "markdown",
   "metadata": {},
   "source": [
    "**Mean Squared Error (MSE)**\n",
    "\n",
    "Used for general purpose regression. Penalizes large mistakes.\n",
    "\n",
    "$$L(y, \\hat{y}) = (y - \\hat{y}) ^ 2$$\n",
    "\n",
    "**Logistic loss**\n",
    "\n",
    "The most common loss used for classification. For binary classification Keras calls it `binary_crossentropy` whereas for multi-class classification it calls it `categorical_crossentropy`.\n",
    "\n",
    "$$L(y, p) = log(1 + exp(-yp))$$\n",
    "\n",
    "**Poisson loss**\n",
    "\n",
    "Used for estimating counts (arrivals in an airport, number of call events to call center, etc.), which is a specific case of regression.\n",
    "\n",
    "$$L(y, \\hat{y}) = \\hat{y} - y \\times log(\\hat{y})$$\n",
    "\n",
    "**Hinge loss**\n",
    "\n",
    "$$L(y, p) = max(0, 1 - yp)$$\n",
    "\n",
    "Loss functions have a big impact on the learning algorithm. For instance the only difference between linear regression and logistic regression is that linear regression is a linear model with a squared loss whereas logistic regression is a linear model with a logistic loss.\n",
    "\n",
    "There are many more loss functions that you can use in machine learning. You can even design your own! For example the deep learning community introduced the [focal loss](https://arxiv.org/abs/1708.02002) to deal with imbalanced datasets. Vowpal Wabbit also [designed](https://arxiv.org/abs/1011.1576) a set of loss functions that support importance weights. [Here](https://keras.io/losses/) is the documentation for Keras."
   ]
  },
  {
   "cell_type": "markdown",
   "metadata": {
    "slideshow": {
     "slide_type": "slide"
    }
   },
   "source": [
    "## Mini-batching\n",
    "\n",
    "At each iteration $i$, instead of updating the weights $w_i$ by using the gradient $g_i$, we can accumulate the gradients and only update the weights every $k$ iterations.\n",
    "\n",
    "The gradient we will use to update the weights will thus be the average of the past $k$ gradients. This is called **mini-batch gradient descent**. Stochastic gradient descent can be seen as a special case of mini-batch gradient descent when the batch size is set to 1.\n",
    "\n",
    "![mini-batch](mini-batch.png)\n",
    "\n",
    "In Keras, the batch size is set when calling the `fit` method:\n",
    "\n",
    "```python\n",
    "model.fit(X_fit, y_fit, epochs=20, batch_size=32)\n",
    "```\n",
    "\n",
    "The batch size is important. Small batch size work well because they are a form of regula\n",
    "\n",
    "Here are some links if you want to get some intuitions:\n",
    "\n",
    "- [Tradeoff batch size vs. number of iterations to train a neural network - Cross Validated](https://stats.stackexchange.com/questions/164876/tradeoff-batch-size-vs-number-of-iterations-to-train-a-neural-network)\n",
    "- [What is batch size in neural network? - Cross Validated](https://stats.stackexchange.com/questions/153531/what-is-batch-size-in-neural-network)\n",
    "- [In deep learning, why don't we use the whole training set to compute the gradient? - Quora](https://www.quora.com/In-deep-learning-why-dont-we-use-the-whole-training-set-to-compute-the-gradient)"
   ]
  },
  {
   "cell_type": "markdown",
   "metadata": {
    "slideshow": {
     "slide_type": "slide"
    }
   },
   "source": [
    "## Input normalization\n",
    "\n",
    "When you're doing gradient descent, the scale of the features matters a lot. Indeed the magnitudes of the gradient descent steps are influenced by the absolute values of the features. If the features are too large, then the gradient steps might be too large and the model will diverge.\n",
    "\n",
    "**Always scale your data**\n",
    "\n",
    "99% of the time, it is recommended to scale your data so that each feature has mean 0 and standard deviation 1. See [this](http://www.faqs.org/faqs/ai-faq/neural-nets/part2/section-16.html) for a deeper explanation.\n",
    " \n",
    "You can use scikit-learn's `scale` method from the `preprocessing` module."
   ]
  },
  {
   "cell_type": "code",
   "execution_count": 16,
   "metadata": {},
   "outputs": [
    {
     "data": {
      "text/plain": [
       "array([  3,  11,  11,   0,   0,   6,  68,   3,   9, 408,  18, 356,  12])"
      ]
     },
     "execution_count": 16,
     "metadata": {},
     "output_type": "execute_result"
    }
   ],
   "source": [
    "import pandas as pd\n",
    "from sklearn import datasets\n",
    "\n",
    "boston = datasets.load_boston()\n",
    "X = boston.data\n",
    "X.mean(axis=0).astype(int)"
   ]
  },
  {
   "cell_type": "code",
   "execution_count": 17,
   "metadata": {},
   "outputs": [
    {
     "data": {
      "text/plain": [
       "array([  8,  23,   6,   0,   0,   0,  28,   2,   8, 168,   2,  91,   7])"
      ]
     },
     "execution_count": 17,
     "metadata": {},
     "output_type": "execute_result"
    }
   ],
   "source": [
    "X.std(axis=0).astype(int)"
   ]
  },
  {
   "cell_type": "code",
   "execution_count": 18,
   "metadata": {},
   "outputs": [
    {
     "data": {
      "text/plain": [
       "array([0, 0, 0, 0, 0, 0, 0, 0, 0, 0, 0, 0, 0])"
      ]
     },
     "execution_count": 18,
     "metadata": {},
     "output_type": "execute_result"
    }
   ],
   "source": [
    "from sklearn import preprocessing\n",
    "\n",
    "X_scaled = preprocessing.StandardScaler().fit_transform(X)\n",
    "X_scaled.mean(axis=0).astype(int)"
   ]
  },
  {
   "cell_type": "code",
   "execution_count": 19,
   "metadata": {},
   "outputs": [
    {
     "data": {
      "text/plain": [
       "array([1., 1., 1., 1., 1., 1., 1., 1., 1., 1., 1., 1., 1.])"
      ]
     },
     "execution_count": 19,
     "metadata": {},
     "output_type": "execute_result"
    }
   ],
   "source": [
    "X_scaled.std(axis=0)"
   ]
  },
  {
   "cell_type": "markdown",
   "metadata": {
    "slideshow": {
     "slide_type": "slide"
    }
   },
   "source": [
    "## Regularization\n",
    "\n",
    "In the previous slide we just mentionned the word **regularization**, what is it exactly?\n",
    "\n",
    "1. A machine learning model learns from a training set \n",
    "2. We want the model to perform well on a test set it hasn't seen\n",
    "3. The stronger the model, the more there is a chance that it overfits by memorizing patterns that only exists in the training set\n",
    "4. Regularizing a model means that we make it's life harder  \n",
    "5. There are many ways to regularize a neural network:\n",
    "    1. Use more data! The more training data there is, the more the model will focus on general patterns\n",
    "    2. Penalize the updates made to the weights by the optimizer \n",
    "    3. Use dropout\n",
    "    4. Use batch normalization\n",
    "    5. Use early stopping\n",
    "    \n",
    "![complexity](complexity.png)"
   ]
  },
  {
   "cell_type": "markdown",
   "metadata": {
    "slideshow": {
     "slide_type": "slide"
    }
   },
   "source": [
    "## Optimizer\n",
    "\n",
    "The list of available optimizers is available [here](https://keras.io/optimizers/). A good overview of the optimizers commonly used in deep learning is available [here](https://ruder.io/optimizing-gradient-descent/index.html).\n",
    "\n",
    "**Stochastic Gradient Descent (SGD)**\n",
    "\n",
    "$$w_{i+1} = w_{i} - \\eta_i \\nabla_i $$\n",
    "\n",
    "**Momentum**\n",
    "\n",
    "The idea is to accumulate the past gradients in order to not lose any acceleration. This can help from getting stuck into a local optima.\n",
    "\n",
    "\\begin{equation} \n",
    "\\begin{split}\n",
    "v_{i+1} = \\gamma v_{i} + \\eta_i \\nabla_i \\\\\n",
    "w_{i+1} = w_{i} - v_{i+1}\n",
    "\\end{split}\n",
    "\\end{equation}\n",
    "\n",
    "**AdaGrad**\n",
    "\n",
    "$$ w_{i+1} = w_{i} - \\frac{\\eta_i}{\\sqrt{G_t + \\epsilon}} \\times g_{i}  $$\n",
    "\n",
    "where $G_t$ is a diagonal matrix where each diagonal term is the sum of the squares of the past gradients. This has the effect of dampening the updates of the weights of frequently occurring features.\n",
    "\n",
    "You can combine tricks: Adam is just Momentum + AdaDelta.\n",
    "\n",
    "Read [Sebastian Ruder's](https://ruder.io/optimizing-gradient-descent/index.html) blog post for more details."
   ]
  },
  {
   "cell_type": "code",
   "execution_count": 20,
   "metadata": {},
   "outputs": [],
   "source": [
    "from keras import optimizers\n",
    "\n",
    "model.compile(\n",
    "    loss='mse',\n",
    "    optimizer=optimizers.SGD(lr=0.01, momentum=0.9),\n",
    ")\n",
    "\n",
    "model.compile(\n",
    "    loss='mse',\n",
    "    optimizer=optimizers.Adam(lr=0.001, beta_1=0.9, beta_2=0.999)\n",
    ")"
   ]
  },
  {
   "cell_type": "markdown",
   "metadata": {
    "slideshow": {
     "slide_type": "slide"
    }
   },
   "source": [
    "## Learning rate\n",
    "\n",
    "- The learning rate determines the amplitude of a weight update step.\n",
    "- From Sebastian Ruder: \"*Choosing a proper learning rate can be difficult. A learning rate that is too small leads to painfully slow convergence, while a learning rate that is too large can hinder convergence and cause the loss function to fluctuate around the minimum or even to diverge.*\"\n",
    "- Learning rate schedulers exist, but they are defined independently from the characteristics of the dataset.\n",
    "- Léon Bottou [proposed](https://cilvr.cs.nyu.edu/diglib/lsml/bottou-sgd-tricks-2012.pdf) an adaptive learning rate, but is not implemented in Keras\n",
    "\n",
    "![learning-rate](learning-rate.png)\n",
    "\n",
    "In Keras we specify the learning rate via the `optimizer` we choose.\n",
    "\n",
    "A common misconception is that Keras uses a constant learning rate. It doesn't. It has the following update schedule:\n",
    "\n",
    "```python\n",
    "learning_rate = learning_rate * 1 / (1 + decay * epoch)\n",
    "```\n",
    "\n",
    "where `decay` is a parameter given to the `optimizer` and `epoch` is the current epoch number.\n",
    "\n",
    "You can override the learning rate by using the [`LearningRateScheduler` callback](https://keras.io/callbacks/#learningratescheduler).\n",
    "\n",
    "You can also use the [`ReduceLROnPlateau` callback](https://keras.io/callbacks/#reducelronplateau) to modify the learning rate when a metric has stopped improving."
   ]
  },
  {
   "cell_type": "markdown",
   "metadata": {
    "slideshow": {
     "slide_type": "slide"
    }
   },
   "source": [
    "## Layers"
   ]
  },
  {
   "cell_type": "code",
   "execution_count": 21,
   "metadata": {},
   "outputs": [
    {
     "data": {
      "text/plain": [
       "[<tensorflow.python.keras.layers.core.Dense at 0x15ee64070>,\n",
       " <tensorflow.python.keras.layers.core.Dense at 0x15ee63850>,\n",
       " <tensorflow.python.keras.layers.core.Dense at 0x15ee634c0>]"
      ]
     },
     "execution_count": 21,
     "metadata": {},
     "output_type": "execute_result"
    }
   ],
   "source": [
    "model.layers"
   ]
  },
  {
   "cell_type": "code",
   "execution_count": 22,
   "metadata": {},
   "outputs": [
    {
     "data": {
      "text/plain": [
       "<tf.Tensor 'dense_2_input:0' shape=(None, 784) dtype=float32>"
      ]
     },
     "execution_count": 22,
     "metadata": {},
     "output_type": "execute_result"
    }
   ],
   "source": [
    "model.layers[0].input"
   ]
  },
  {
   "cell_type": "code",
   "execution_count": 23,
   "metadata": {},
   "outputs": [
    {
     "data": {
      "text/plain": [
       "<tf.Tensor 'dense_2/Relu:0' shape=(None, 512) dtype=float32>"
      ]
     },
     "execution_count": 23,
     "metadata": {},
     "output_type": "execute_result"
    }
   ],
   "source": [
    "model.layers[0].output"
   ]
  },
  {
   "cell_type": "code",
   "execution_count": 24,
   "metadata": {},
   "outputs": [
    {
     "data": {
      "text/plain": [
       "<tf.Tensor 'dense_2/Relu:0' shape=(None, 512) dtype=float32>"
      ]
     },
     "execution_count": 24,
     "metadata": {},
     "output_type": "execute_result"
    }
   ],
   "source": [
    "model.layers[1].input"
   ]
  },
  {
   "cell_type": "markdown",
   "metadata": {},
   "source": [
    "Now let's take a deep dive into [Keras' documentation on layers](https://keras.io/layers/about-keras-layers/) as it is excellent."
   ]
  },
  {
   "cell_type": "markdown",
   "metadata": {
    "slideshow": {
     "slide_type": "slide"
    }
   },
   "source": [
    "## Weight initialization\n",
    "\n",
    "Initializing the weights of a neural network might seem like a detail, but it helps when the network is quite large. In Keras, you can choose an initializer for each layer:\n",
    "\n",
    "```python\n",
    "network = models.Sequential([\n",
    "    layers.Dense(\n",
    "        units=16,\n",
    "        input_shape=(number_of_features,),\n",
    "        kernel_initializer='random_uniform',\n",
    "        bias_initializer='zeros'\n",
    "    ),\n",
    "    layers.Dense(units=16, kernel_initializer='glorot_normal'),\n",
    "    layers.Dense(units=1, bias_initializer='he_normal')\n",
    "])\n",
    "```\n",
    "\n",
    "[Here](https://keras.io/initializers/) is the Keras documentation."
   ]
  },
  {
   "cell_type": "markdown",
   "metadata": {
    "slideshow": {
     "slide_type": "slide"
    }
   },
   "source": [
    "## Metrics\n",
    "\n",
    "A metric measures the performance of a learning algorithm. It is different from a loss function, which is used to obtain gradients. Ideally, if we want to optimize a metric, we would want to use the metric as a loss function. Alas, not all metrics are differentiable. However, some loss functions act as good *proxies*. For instance, if your aim is to optimize accuracy, then using a Hinge loss might be a good idea.\n",
    "\n",
    "For regression, we typically measure the [mean squared error (MSE)](https://www.wikiwand.com/en/Mean_squared_error). You can directly use the mean squared error as a loss function. The same goes for the root mean squared error (RMSE).\n",
    "\n",
    "Measuring the [mean absolute error (MAE)](https://www.wikiwand.com/en/Mean_absolute_error) is also quite common as it makes a lot of sense for humans. In this case, using the mean squared error is suboptimal. The [Cauchy loss function](https://www.kaggle.com/c/allstate-claims-severity/discussion/24520#140163) might work better.\n",
    "\n",
    "For classification you have many choices and it mostly depends on your application. Accuracy is typically a poor metric choice as it doesn't translate a business need. If you're interested in lowering false positives, then measure the precision. If you don't want false negatives, then measure the recall. If you want a mix of both then measure the F1-score. If you're only interested in getting a good ranking (such as for anomaly detection), then measure the AUC. The [Wikipedia page](https://www.wikiwand.com/en/Precision_and_recall) on precision and recall is quite information. In any case, you'll probably do fine by using the standard logarithmic loss. If your dataset is unbalanced or you really don't want false positives, then try out the [focal loss](https://arxiv.org/abs/1708.02002) or use sample weights. "
   ]
  },
  {
   "cell_type": "markdown",
   "metadata": {
    "slideshow": {
     "slide_type": "slide"
    }
   },
   "source": [
    "## Early stopping"
   ]
  },
  {
   "cell_type": "markdown",
   "metadata": {},
   "source": [
    "A natural way to choose the number of epochs is to monitor the performance of the network on a validation at each epoch. When the score on the validation set goes down, then we can stop.\n",
    "\n",
    "We'll use an example from [this](https://chrisalbon.com/deep_learning/keras/neural_network_early_stopping/) blog post."
   ]
  },
  {
   "cell_type": "code",
   "execution_count": 25,
   "metadata": {},
   "outputs": [],
   "source": [
    "import numpy as np\n",
    "from keras.datasets import imdb\n",
    "from keras.preprocessing.text import Tokenizer\n",
    "\n",
    "# Set the number of features we want\n",
    "number_of_features = 1000\n",
    "\n",
    "# Save np.load\n",
    "#np_load_old = np.load\n",
    "# Modify the default parameters of np.load\n",
    "#np.load = lambda *a,**k: np_load_old(*a, allow_pickle=True, **k)\n",
    "# Call load_data with allow_pickle implicitly set to true\n",
    "(train_data, train_target), (test_data, test_target) = imdb.load_data(num_words=number_of_features)\n",
    "# Restore np.load for future normal usage\n",
    "#np.load = np_load_old\n",
    "\n",
    "# Convert movie review data to a one-hot encoded feature matrix\n",
    "tokenizer = Tokenizer(num_words=number_of_features)\n",
    "train_features = tokenizer.sequences_to_matrix(train_data, mode='binary')\n",
    "test_features = tokenizer.sequences_to_matrix(test_data, mode='binary')"
   ]
  },
  {
   "cell_type": "markdown",
   "metadata": {},
   "source": [
    "Now let's define a neural network."
   ]
  },
  {
   "cell_type": "code",
   "execution_count": 26,
   "metadata": {},
   "outputs": [],
   "source": [
    "# Start neural network\n",
    "network = models.Sequential()\n",
    "\n",
    "# Add fully connected layer with a ReLU activation function\n",
    "network.add(layers.Dense(units=16, activation='relu', input_shape=(number_of_features,)))\n",
    "\n",
    "# Add fully connected layer with a ReLU activation function\n",
    "network.add(layers.Dense(units=16, activation='relu'))\n",
    "\n",
    "# Add fully connected layer with a sigmoid activation function\n",
    "network.add(layers.Dense(units=1, activation='sigmoid'))\n",
    "\n",
    "# SAME THING\n",
    "\n",
    "network = models.Sequential([\n",
    "    layers.Dense(units=16, activation='relu', input_shape=(number_of_features,)),\n",
    "    layers.Dense(units=16, activation='relu'),\n",
    "    layers.Dense(units=1, activation='sigmoid')\n",
    "])\n",
    "\n",
    "# Compile the network\n",
    "network.compile(loss='binary_crossentropy', # Cross-entropy\n",
    "                optimizer='rmsprop', # Root Mean Square Propagation\n",
    "                metrics=['accuracy']) # Accuracy performance metric"
   ]
  },
  {
   "cell_type": "markdown",
   "metadata": {},
   "source": [
    "Let's train the network."
   ]
  },
  {
   "cell_type": "code",
   "execution_count": 27,
   "metadata": {},
   "outputs": [
    {
     "name": "stdout",
     "output_type": "stream",
     "text": [
      "Epoch 1/20\n",
      "250/250 [==============================] - 2s 9ms/step - loss: 0.4260 - accuracy: 0.8092 - val_loss: 0.3363 - val_accuracy: 0.8567\n",
      "Epoch 2/20\n",
      "250/250 [==============================] - 2s 7ms/step - loss: 0.3235 - accuracy: 0.8633 - val_loss: 0.3279 - val_accuracy: 0.8608\n",
      "Epoch 3/20\n",
      "250/250 [==============================] - 2s 9ms/step - loss: 0.3099 - accuracy: 0.8698 - val_loss: 0.3393 - val_accuracy: 0.8541\n",
      "Epoch 4/20\n",
      "250/250 [==============================] - 1s 4ms/step - loss: 0.3005 - accuracy: 0.8732 - val_loss: 0.3260 - val_accuracy: 0.8600\n",
      "Epoch 5/20\n",
      "250/250 [==============================] - 1s 4ms/step - loss: 0.2903 - accuracy: 0.8780 - val_loss: 0.3321 - val_accuracy: 0.8572\n",
      "Epoch 6/20\n",
      "250/250 [==============================] - 1s 3ms/step - loss: 0.2808 - accuracy: 0.8809 - val_loss: 0.3384 - val_accuracy: 0.8532\n",
      "Epoch 7/20\n",
      "250/250 [==============================] - 1s 3ms/step - loss: 0.2691 - accuracy: 0.8866 - val_loss: 0.3309 - val_accuracy: 0.8592\n",
      "Epoch 8/20\n",
      "250/250 [==============================] - 1s 4ms/step - loss: 0.2563 - accuracy: 0.8929 - val_loss: 0.3462 - val_accuracy: 0.8551\n",
      "Epoch 9/20\n",
      "250/250 [==============================] - 1s 4ms/step - loss: 0.2431 - accuracy: 0.9002 - val_loss: 0.3432 - val_accuracy: 0.8555\n",
      "Epoch 10/20\n",
      "250/250 [==============================] - 1s 6ms/step - loss: 0.2305 - accuracy: 0.9058 - val_loss: 0.3558 - val_accuracy: 0.8537\n",
      "Epoch 11/20\n",
      "250/250 [==============================] - 2s 9ms/step - loss: 0.2176 - accuracy: 0.9120 - val_loss: 0.3695 - val_accuracy: 0.8487\n",
      "Epoch 12/20\n",
      "250/250 [==============================] - 1s 4ms/step - loss: 0.2048 - accuracy: 0.9167 - val_loss: 0.3805 - val_accuracy: 0.8470\n",
      "Epoch 13/20\n",
      "250/250 [==============================] - 1s 3ms/step - loss: 0.1924 - accuracy: 0.9253 - val_loss: 0.4086 - val_accuracy: 0.8410\n",
      "Epoch 14/20\n",
      "250/250 [==============================] - 1s 4ms/step - loss: 0.1804 - accuracy: 0.9311 - val_loss: 0.4147 - val_accuracy: 0.8464\n",
      "Epoch 15/20\n",
      "250/250 [==============================] - 1s 4ms/step - loss: 0.1694 - accuracy: 0.9369 - val_loss: 0.4387 - val_accuracy: 0.8430\n",
      "Epoch 16/20\n",
      "250/250 [==============================] - 1s 3ms/step - loss: 0.1572 - accuracy: 0.9420 - val_loss: 0.4516 - val_accuracy: 0.8421\n",
      "Epoch 17/20\n",
      "250/250 [==============================] - 1s 3ms/step - loss: 0.1472 - accuracy: 0.9472 - val_loss: 0.4844 - val_accuracy: 0.8390\n",
      "Epoch 18/20\n",
      "250/250 [==============================] - 1s 3ms/step - loss: 0.1370 - accuracy: 0.9507 - val_loss: 0.4949 - val_accuracy: 0.8372\n",
      "Epoch 19/20\n",
      "250/250 [==============================] - 1s 4ms/step - loss: 0.1267 - accuracy: 0.9558 - val_loss: 0.5379 - val_accuracy: 0.8372\n",
      "Epoch 20/20\n",
      "250/250 [==============================] - 1s 5ms/step - loss: 0.1187 - accuracy: 0.9579 - val_loss: 0.5581 - val_accuracy: 0.8366\n"
     ]
    }
   ],
   "source": [
    "history = network.fit(\n",
    "    train_features, \n",
    "    train_target, \n",
    "    epochs=20, \n",
    "    verbose=1, \n",
    "    batch_size=100, \n",
    "    validation_data=(test_features, test_target)\n",
    ")"
   ]
  },
  {
   "cell_type": "markdown",
   "metadata": {},
   "source": [
    "Now we can display the train and test performance for each epoch."
   ]
  },
  {
   "cell_type": "code",
   "execution_count": 28,
   "metadata": {
    "scrolled": true
   },
   "outputs": [
    {
     "data": {
      "image/png": "[encoded data removed]",
      "text/plain": [
       "<Figure size 432x288 with 1 Axes>"
      ]
     },
     "metadata": {
      "needs_background": "light"
     },
     "output_type": "display_data"
    },
    {
     "data": {
      "image/png": "[encoded data removed]",
      "text/plain": [
       "<Figure size 432x288 with 1 Axes>"
      ]
     },
     "metadata": {
      "needs_background": "light"
     },
     "output_type": "display_data"
    }
   ],
   "source": [
    "import matplotlib.pyplot as plt\n",
    "\n",
    "plt.plot(history.history['accuracy'])\n",
    "plt.plot(history.history['val_accuracy'])\n",
    "plt.title('Model accuracy')\n",
    "plt.ylabel('Accuracy')\n",
    "plt.xlabel('Epoch')\n",
    "plt.legend(['Train', 'Test'], loc='upper left')\n",
    "plt.show()\n",
    "\n",
    "# Plot training & validation loss values\n",
    "plt.plot(history.history['loss'])\n",
    "plt.plot(history.history['val_loss'])\n",
    "plt.title('Model loss')\n",
    "plt.ylabel('Loss')\n",
    "plt.xlabel('Epoch')\n",
    "plt.legend(['Train', 'Test'], loc='upper left')\n",
    "plt.show()"
   ]
  },
  {
   "cell_type": "code",
   "execution_count": 29,
   "metadata": {},
   "outputs": [
    {
     "name": "stdout",
     "output_type": "stream",
     "text": [
      "Epoch 1/20\n",
      "250/250 [==============================] - 1s 5ms/step - loss: 0.1090 - accuracy: 0.9621 - val_loss: 0.5921 - val_accuracy: 0.8336\n",
      "Epoch 2/20\n",
      "250/250 [==============================] - 1s 5ms/step - loss: 0.1003 - accuracy: 0.9653 - val_loss: 0.6171 - val_accuracy: 0.8331\n",
      "Epoch 3/20\n",
      "250/250 [==============================] - 1s 5ms/step - loss: 0.0917 - accuracy: 0.9697 - val_loss: 0.6494 - val_accuracy: 0.8309\n"
     ]
    }
   ],
   "source": [
    "from keras.callbacks import EarlyStopping, ModelCheckpoint\n",
    "\n",
    "callbacks = [\n",
    "    EarlyStopping(monitor='val_loss', patience=2),\n",
    "    ModelCheckpoint(filepath='best_model.h5', monitor='val_loss', save_best_only=True)\n",
    "]\n",
    "\n",
    "history = network.fit(\n",
    "    train_features, \n",
    "    train_target, \n",
    "    epochs=20, \n",
    "    verbose=1, \n",
    "    batch_size=100, \n",
    "    validation_data=(test_features, test_target),\n",
    "    callbacks=callbacks\n",
    ")"
   ]
  },
  {
   "cell_type": "markdown",
   "metadata": {
    "slideshow": {
     "slide_type": "slide"
    }
   },
   "source": [
    "## Visualizing a neural network"
   ]
  },
  {
   "cell_type": "code",
   "execution_count": 30,
   "metadata": {},
   "outputs": [
    {
     "name": "stdout",
     "output_type": "stream",
     "text": [
      "Model: \"sequential_4\"\n",
      "_________________________________________________________________\n",
      "Layer (type)                 Output Shape              Param #   \n",
      "=================================================================\n",
      "dense_11 (Dense)             (None, 1024)              803840    \n",
      "_________________________________________________________________\n",
      "dropout (Dropout)            (None, 1024)              0         \n",
      "_________________________________________________________________\n",
      "dense_12 (Dense)             (None, 512)               524800    \n",
      "_________________________________________________________________\n",
      "dropout_1 (Dropout)          (None, 512)               0         \n",
      "_________________________________________________________________\n",
      "dense_13 (Dense)             (None, 10)                5130      \n",
      "=================================================================\n",
      "Total params: 1,333,770\n",
      "Trainable params: 1,333,770\n",
      "Non-trainable params: 0\n",
      "_________________________________________________________________\n",
      "None\n"
     ]
    }
   ],
   "source": [
    "model = models.Sequential([\n",
    "    layers.Dense(1024, activation='relu', input_shape=(784,)),\n",
    "    layers.Dropout(rate=0.2),\n",
    "    layers.Dense(512, activation='relu'),\n",
    "    layers.Dropout(rate=0.4),\n",
    "    layers.Dense(10, activation='softmax'),\n",
    "])\n",
    "\n",
    "print(model.summary())"
   ]
  },
  {
   "cell_type": "code",
   "execution_count": 31,
   "metadata": {},
   "outputs": [],
   "source": [
    "assert 803840 == 784 * 1024 + 1024\n",
    "assert 524800 == 1024 * 512 + 512\n",
    "assert 5130 == 512 * 10 + 10\n",
    "assert 803840 + 524800 + 5130 == 1333770"
   ]
  },
  {
   "cell_type": "code",
   "execution_count": 32,
   "metadata": {},
   "outputs": [
    {
     "data": {
      "image/svg+xml": [
       "<svg xmlns=\"http://www.w3.org/2000/svg\" xmlns:xlink=\"http://www.w3.org/1999/xlink\" width=\"237pt\" height=\"547pt\" viewBox=\"0.00 0.00 178.00 410.00\">\n",
       "<g id=\"graph0\" class=\"graph\" transform=\"scale(1.33 1.33) rotate(0) translate(4 406)\">\n",
       "<title>G</title>\n",
       "<polygon fill=\"white\" stroke=\"transparent\" points=\"-4,4 -4,-406 174,-406 174,4 -4,4\"/>\n",
       "<!-- 6536128208 -->\n",
       "<g id=\"node1\" class=\"node\">\n",
       "<title>6536128208</title>\n",
       "<polygon fill=\"none\" stroke=\"black\" points=\"0,-365.5 0,-401.5 170,-401.5 170,-365.5 0,-365.5\"/>\n",
       "<text text-anchor=\"middle\" x=\"85\" y=\"-379.8\" font-family=\"Times,serif\" font-size=\"14.00\">dense_11_input: InputLayer</text>\n",
       "</g>\n",
       "<!-- 6419339824 -->\n",
       "<g id=\"node2\" class=\"node\">\n",
       "<title>6419339824</title>\n",
       "<polygon fill=\"none\" stroke=\"black\" points=\"30.5,-292.5 30.5,-328.5 139.5,-328.5 139.5,-292.5 30.5,-292.5\"/>\n",
       "<text text-anchor=\"middle\" x=\"85\" y=\"-306.8\" font-family=\"Times,serif\" font-size=\"14.00\">dense_11: Dense</text>\n",
       "</g>\n",
       "<!-- 6536128208&#45;&gt;6419339824 -->\n",
       "<g id=\"edge1\" class=\"edge\">\n",
       "<title>6536128208-&gt;6419339824</title>\n",
       "<path fill=\"none\" stroke=\"black\" d=\"M85,-365.31C85,-357.29 85,-347.55 85,-338.57\"/>\n",
       "<polygon fill=\"black\" stroke=\"black\" points=\"88.5,-338.53 85,-328.53 81.5,-338.53 88.5,-338.53\"/>\n",
       "</g>\n",
       "<!-- 4573318112 -->\n",
       "<g id=\"node3\" class=\"node\">\n",
       "<title>4573318112</title>\n",
       "<polygon fill=\"none\" stroke=\"black\" points=\"29.5,-219.5 29.5,-255.5 140.5,-255.5 140.5,-219.5 29.5,-219.5\"/>\n",
       "<text text-anchor=\"middle\" x=\"85\" y=\"-233.8\" font-family=\"Times,serif\" font-size=\"14.00\">dropout: Dropout</text>\n",
       "</g>\n",
       "<!-- 6419339824&#45;&gt;4573318112 -->\n",
       "<g id=\"edge2\" class=\"edge\">\n",
       "<title>6419339824-&gt;4573318112</title>\n",
       "<path fill=\"none\" stroke=\"black\" d=\"M85,-292.31C85,-284.29 85,-274.55 85,-265.57\"/>\n",
       "<polygon fill=\"black\" stroke=\"black\" points=\"88.5,-265.53 85,-255.53 81.5,-265.53 88.5,-265.53\"/>\n",
       "</g>\n",
       "<!-- 4573318208 -->\n",
       "<g id=\"node4\" class=\"node\">\n",
       "<title>4573318208</title>\n",
       "<polygon fill=\"none\" stroke=\"black\" points=\"30.5,-146.5 30.5,-182.5 139.5,-182.5 139.5,-146.5 30.5,-146.5\"/>\n",
       "<text text-anchor=\"middle\" x=\"85\" y=\"-160.8\" font-family=\"Times,serif\" font-size=\"14.00\">dense_12: Dense</text>\n",
       "</g>\n",
       "<!-- 4573318112&#45;&gt;4573318208 -->\n",
       "<g id=\"edge3\" class=\"edge\">\n",
       "<title>4573318112-&gt;4573318208</title>\n",
       "<path fill=\"none\" stroke=\"black\" d=\"M85,-219.31C85,-211.29 85,-201.55 85,-192.57\"/>\n",
       "<polygon fill=\"black\" stroke=\"black\" points=\"88.5,-192.53 85,-182.53 81.5,-192.53 88.5,-192.53\"/>\n",
       "</g>\n",
       "<!-- 6529283696 -->\n",
       "<g id=\"node5\" class=\"node\">\n",
       "<title>6529283696</title>\n",
       "<polygon fill=\"none\" stroke=\"black\" points=\"22.5,-73.5 22.5,-109.5 147.5,-109.5 147.5,-73.5 22.5,-73.5\"/>\n",
       "<text text-anchor=\"middle\" x=\"85\" y=\"-87.8\" font-family=\"Times,serif\" font-size=\"14.00\">dropout_1: Dropout</text>\n",
       "</g>\n",
       "<!-- 4573318208&#45;&gt;6529283696 -->\n",
       "<g id=\"edge4\" class=\"edge\">\n",
       "<title>4573318208-&gt;6529283696</title>\n",
       "<path fill=\"none\" stroke=\"black\" d=\"M85,-146.31C85,-138.29 85,-128.55 85,-119.57\"/>\n",
       "<polygon fill=\"black\" stroke=\"black\" points=\"88.5,-119.53 85,-109.53 81.5,-119.53 88.5,-119.53\"/>\n",
       "</g>\n",
       "<!-- 6529286000 -->\n",
       "<g id=\"node6\" class=\"node\">\n",
       "<title>6529286000</title>\n",
       "<polygon fill=\"none\" stroke=\"black\" points=\"30.5,-0.5 30.5,-36.5 139.5,-36.5 139.5,-0.5 30.5,-0.5\"/>\n",
       "<text text-anchor=\"middle\" x=\"85\" y=\"-14.8\" font-family=\"Times,serif\" font-size=\"14.00\">dense_13: Dense</text>\n",
       "</g>\n",
       "<!-- 6529283696&#45;&gt;6529286000 -->\n",
       "<g id=\"edge5\" class=\"edge\">\n",
       "<title>6529283696-&gt;6529286000</title>\n",
       "<path fill=\"none\" stroke=\"black\" d=\"M85,-73.31C85,-65.29 85,-55.55 85,-46.57\"/>\n",
       "<polygon fill=\"black\" stroke=\"black\" points=\"88.5,-46.53 85,-36.53 81.5,-46.53 88.5,-46.53\"/>\n",
       "</g>\n",
       "</g>\n",
       "</svg>"
      ],
      "text/plain": [
       "<IPython.core.display.SVG object>"
      ]
     },
     "execution_count": 32,
     "metadata": {},
     "output_type": "execute_result"
    }
   ],
   "source": [
    "from IPython.display import SVG\n",
    "from keras.utils.vis_utils import model_to_dot\n",
    "\n",
    "SVG(model_to_dot(model).create(prog='dot', format='svg'))"
   ]
  },
  {
   "cell_type": "markdown",
   "metadata": {
    "slideshow": {
     "slide_type": "slide"
    }
   },
   "source": [
    "## Cross-validation"
   ]
  },
  {
   "cell_type": "markdown",
   "metadata": {},
   "source": [
    "![cross-val](cross-val.png)"
   ]
  },
  {
   "cell_type": "code",
   "execution_count": 33,
   "metadata": {},
   "outputs": [
    {
     "name": "stdout",
     "output_type": "stream",
     "text": [
      "Fold 0, #fit: 404, #val: 102, score: 77.643\n",
      "Fold 1, #fit: 405, #val: 101, score: 1043.301\n",
      "Fold 2, #fit: 405, #val: 101, score: 112.928\n",
      "Fold 3, #fit: 405, #val: 101, score: 126.726\n",
      "Fold 4, #fit: 405, #val: 101, score: 67.937\n",
      "Global score: 285.707 (± 379.418)\n"
     ]
    }
   ],
   "source": [
    "import numpy as np\n",
    "from sklearn import datasets\n",
    "from sklearn import model_selection\n",
    "\n",
    "X, y = datasets.load_boston(return_X_y=True)\n",
    "\n",
    "n_features = X.shape[1]\n",
    "\n",
    "cross_val = model_selection.KFold(\n",
    "    n_splits=5,\n",
    "    shuffle=True,\n",
    "    random_state=42\n",
    ")\n",
    "\n",
    "scores = np.zeros(cross_val.n_splits)\n",
    "\n",
    "for i, (fit_idx, val_idx) in enumerate(cross_val.split(X, y)):\n",
    "    \n",
    "    X_fit = X[fit_idx]\n",
    "    X_val = X[val_idx]\n",
    "    y_fit = y[fit_idx]\n",
    "    y_val = y[val_idx]\n",
    "    \n",
    "    model = models.Sequential([\n",
    "        layers.Dense(16, activation='relu', input_shape=(n_features,)),\n",
    "        layers.Dense(1),\n",
    "    ])\n",
    "    model.compile(loss='mse', optimizer='adam')\n",
    "    \n",
    "    # Train\n",
    "    model.fit(X_fit, y_fit, epochs=5, shuffle=False, verbose=0, batch_size=8)\n",
    "    \n",
    "    # Make out-of-fold predictions\n",
    "    y_pred = model.predict(X_val)\n",
    "    \n",
    "    # Store the score for this splits\n",
    "    scores[i] = metrics.mean_squared_error(y_val, y_pred)\n",
    "    \n",
    "    print(f'Fold {i}, #fit: {len(fit_idx)}, #val: {len(val_idx)}, score: {scores[i]:.3f}')\n",
    "    \n",
    "print(f'Global score: {scores.mean():.3f} (± {scores.std():.3f})')"
   ]
  },
  {
   "cell_type": "markdown",
   "metadata": {},
   "source": [
    "Cross-validation is a heavy process and so it is not often done in practice. You'll more often see people using a training set and a test set (also called **holdout set**)."
   ]
  },
  {
   "cell_type": "markdown",
   "metadata": {
    "slideshow": {
     "slide_type": "slide"
    }
   },
   "source": [
    "## A closer look at the Keras methods "
   ]
  },
  {
   "cell_type": "code",
   "execution_count": 35,
   "metadata": {},
   "outputs": [],
   "source": [
    "?model.fit"
   ]
  },
  {
   "cell_type": "code",
   "execution_count": 36,
   "metadata": {},
   "outputs": [],
   "source": [
    "?model.predict"
   ]
  },
  {
   "cell_type": "code",
   "execution_count": 37,
   "metadata": {},
   "outputs": [],
   "source": [
    "?model.compile"
   ]
  },
  {
   "cell_type": "markdown",
   "metadata": {
    "slideshow": {
     "slide_type": "slide"
    }
   },
   "source": [
    "## How do I choose an architecture?"
   ]
  },
  {
   "cell_type": "markdown",
   "metadata": {},
   "source": [
    "There are so many choices you can make that it can quickly become overwhelming. Choosing the right pieces of the puzzle is very much an art rather than a science. There is no getting around trying things out. It is thus very important to setup a stable environment for testing and evaluating model choices. You should always start by defining a reliable testing procedure.\n",
    "\n",
    "Here is some general advice:\n",
    "\n",
    "1. Start with a very simple model (for example a logistic regression)\n",
    "2. Add complexity to the model as long as the validation score improves\n",
    "3. If the model is overfitting (you can detect it by comparing the training and validation scores) then add regularization\n",
    "4. Last but not least, spend most of your time checking that the data you're using is correct\n",
    "\n",
    "Here are some more links if you're interested:\n",
    "\n",
    "- [How to decide neural network architecture? - Data Science exchange](https://datascience.stackexchange.com/questions/20222/how-to-decide-neural-network-architecture)\n",
    "- [How to choose the number of hidden layers and nodes in a feedforward neural network? - Cross Validated](https://stats.stackexchange.com/questions/181/how-to-choose-the-number-of-hidden-layers-and-nodes-in-a-feedforward-neural-netw)"
   ]
  },
  {
   "cell_type": "markdown",
   "metadata": {
    "slideshow": {
     "slide_type": "slide"
    }
   },
   "source": [
    "## Using a pretrained architecture\n",
    "\n",
    "It's quite common to retrain an existing neural network for a particular task. We call this [transfer learning](https://machinelearningmastery.com/transfer-learning-for-deep-learning/). It is very much used for image and text classification. Check out [this page](https://keras.io/applications/) to see what networks Keras puts at your disposal.\n",
    "\n",
    "Let's use the [VGG]() network."
   ]
  },
  {
   "cell_type": "code",
   "execution_count": 38,
   "metadata": {},
   "outputs": [
    {
     "name": "stdout",
     "output_type": "stream",
     "text": [
      "Downloading data from https://storage.googleapis.com/tensorflow/keras-applications/mobilenet/mobilenet_1_0_224_tf.h5\n",
      "17227776/17225924 [==============================] - 2s 0us/step\n",
      "Model: \"mobilenet_1.00_224\"\n",
      "_________________________________________________________________\n",
      "Layer (type)                 Output Shape              Param #   \n",
      "=================================================================\n",
      "input_1 (InputLayer)         [(None, 224, 224, 3)]     0         \n",
      "_________________________________________________________________\n",
      "conv1_pad (ZeroPadding2D)    (None, 225, 225, 3)       0         \n",
      "_________________________________________________________________\n",
      "conv1 (Conv2D)               (None, 112, 112, 32)      864       \n",
      "_________________________________________________________________\n",
      "conv1_bn (BatchNormalization (None, 112, 112, 32)      128       \n",
      "_________________________________________________________________\n",
      "conv1_relu (ReLU)            (None, 112, 112, 32)      0         \n",
      "_________________________________________________________________\n",
      "conv_dw_1 (DepthwiseConv2D)  (None, 112, 112, 32)      288       \n",
      "_________________________________________________________________\n",
      "conv_dw_1_bn (BatchNormaliza (None, 112, 112, 32)      128       \n",
      "_________________________________________________________________\n",
      "conv_dw_1_relu (ReLU)        (None, 112, 112, 32)      0         \n",
      "_________________________________________________________________\n",
      "conv_pw_1 (Conv2D)           (None, 112, 112, 64)      2048      \n",
      "_________________________________________________________________\n",
      "conv_pw_1_bn (BatchNormaliza (None, 112, 112, 64)      256       \n",
      "_________________________________________________________________\n",
      "conv_pw_1_relu (ReLU)        (None, 112, 112, 64)      0         \n",
      "_________________________________________________________________\n",
      "conv_pad_2 (ZeroPadding2D)   (None, 113, 113, 64)      0         \n",
      "_________________________________________________________________\n",
      "conv_dw_2 (DepthwiseConv2D)  (None, 56, 56, 64)        576       \n",
      "_________________________________________________________________\n",
      "conv_dw_2_bn (BatchNormaliza (None, 56, 56, 64)        256       \n",
      "_________________________________________________________________\n",
      "conv_dw_2_relu (ReLU)        (None, 56, 56, 64)        0         \n",
      "_________________________________________________________________\n",
      "conv_pw_2 (Conv2D)           (None, 56, 56, 128)       8192      \n",
      "_________________________________________________________________\n",
      "conv_pw_2_bn (BatchNormaliza (None, 56, 56, 128)       512       \n",
      "_________________________________________________________________\n",
      "conv_pw_2_relu (ReLU)        (None, 56, 56, 128)       0         \n",
      "_________________________________________________________________\n",
      "conv_dw_3 (DepthwiseConv2D)  (None, 56, 56, 128)       1152      \n",
      "_________________________________________________________________\n",
      "conv_dw_3_bn (BatchNormaliza (None, 56, 56, 128)       512       \n",
      "_________________________________________________________________\n",
      "conv_dw_3_relu (ReLU)        (None, 56, 56, 128)       0         \n",
      "_________________________________________________________________\n",
      "conv_pw_3 (Conv2D)           (None, 56, 56, 128)       16384     \n",
      "_________________________________________________________________\n",
      "conv_pw_3_bn (BatchNormaliza (None, 56, 56, 128)       512       \n",
      "_________________________________________________________________\n",
      "conv_pw_3_relu (ReLU)        (None, 56, 56, 128)       0         \n",
      "_________________________________________________________________\n",
      "conv_pad_4 (ZeroPadding2D)   (None, 57, 57, 128)       0         \n",
      "_________________________________________________________________\n",
      "conv_dw_4 (DepthwiseConv2D)  (None, 28, 28, 128)       1152      \n",
      "_________________________________________________________________\n",
      "conv_dw_4_bn (BatchNormaliza (None, 28, 28, 128)       512       \n",
      "_________________________________________________________________\n",
      "conv_dw_4_relu (ReLU)        (None, 28, 28, 128)       0         \n",
      "_________________________________________________________________\n",
      "conv_pw_4 (Conv2D)           (None, 28, 28, 256)       32768     \n",
      "_________________________________________________________________\n",
      "conv_pw_4_bn (BatchNormaliza (None, 28, 28, 256)       1024      \n",
      "_________________________________________________________________\n",
      "conv_pw_4_relu (ReLU)        (None, 28, 28, 256)       0         \n",
      "_________________________________________________________________\n",
      "conv_dw_5 (DepthwiseConv2D)  (None, 28, 28, 256)       2304      \n",
      "_________________________________________________________________\n",
      "conv_dw_5_bn (BatchNormaliza (None, 28, 28, 256)       1024      \n",
      "_________________________________________________________________\n",
      "conv_dw_5_relu (ReLU)        (None, 28, 28, 256)       0         \n",
      "_________________________________________________________________\n",
      "conv_pw_5 (Conv2D)           (None, 28, 28, 256)       65536     \n",
      "_________________________________________________________________\n",
      "conv_pw_5_bn (BatchNormaliza (None, 28, 28, 256)       1024      \n",
      "_________________________________________________________________\n",
      "conv_pw_5_relu (ReLU)        (None, 28, 28, 256)       0         \n",
      "_________________________________________________________________\n",
      "conv_pad_6 (ZeroPadding2D)   (None, 29, 29, 256)       0         \n",
      "_________________________________________________________________\n",
      "conv_dw_6 (DepthwiseConv2D)  (None, 14, 14, 256)       2304      \n",
      "_________________________________________________________________\n",
      "conv_dw_6_bn (BatchNormaliza (None, 14, 14, 256)       1024      \n",
      "_________________________________________________________________\n",
      "conv_dw_6_relu (ReLU)        (None, 14, 14, 256)       0         \n",
      "_________________________________________________________________\n",
      "conv_pw_6 (Conv2D)           (None, 14, 14, 512)       131072    \n",
      "_________________________________________________________________\n",
      "conv_pw_6_bn (BatchNormaliza (None, 14, 14, 512)       2048      \n",
      "_________________________________________________________________\n",
      "conv_pw_6_relu (ReLU)        (None, 14, 14, 512)       0         \n",
      "_________________________________________________________________\n",
      "conv_dw_7 (DepthwiseConv2D)  (None, 14, 14, 512)       4608      \n",
      "_________________________________________________________________\n",
      "conv_dw_7_bn (BatchNormaliza (None, 14, 14, 512)       2048      \n",
      "_________________________________________________________________\n",
      "conv_dw_7_relu (ReLU)        (None, 14, 14, 512)       0         \n",
      "_________________________________________________________________\n",
      "conv_pw_7 (Conv2D)           (None, 14, 14, 512)       262144    \n",
      "_________________________________________________________________\n",
      "conv_pw_7_bn (BatchNormaliza (None, 14, 14, 512)       2048      \n",
      "_________________________________________________________________\n",
      "conv_pw_7_relu (ReLU)        (None, 14, 14, 512)       0         \n",
      "_________________________________________________________________\n",
      "conv_dw_8 (DepthwiseConv2D)  (None, 14, 14, 512)       4608      \n",
      "_________________________________________________________________\n",
      "conv_dw_8_bn (BatchNormaliza (None, 14, 14, 512)       2048      \n",
      "_________________________________________________________________\n",
      "conv_dw_8_relu (ReLU)        (None, 14, 14, 512)       0         \n",
      "_________________________________________________________________\n",
      "conv_pw_8 (Conv2D)           (None, 14, 14, 512)       262144    \n",
      "_________________________________________________________________\n",
      "conv_pw_8_bn (BatchNormaliza (None, 14, 14, 512)       2048      \n",
      "_________________________________________________________________\n",
      "conv_pw_8_relu (ReLU)        (None, 14, 14, 512)       0         \n",
      "_________________________________________________________________\n",
      "conv_dw_9 (DepthwiseConv2D)  (None, 14, 14, 512)       4608      \n",
      "_________________________________________________________________\n",
      "conv_dw_9_bn (BatchNormaliza (None, 14, 14, 512)       2048      \n",
      "_________________________________________________________________\n",
      "conv_dw_9_relu (ReLU)        (None, 14, 14, 512)       0         \n",
      "_________________________________________________________________\n",
      "conv_pw_9 (Conv2D)           (None, 14, 14, 512)       262144    \n",
      "_________________________________________________________________\n",
      "conv_pw_9_bn (BatchNormaliza (None, 14, 14, 512)       2048      \n",
      "_________________________________________________________________\n",
      "conv_pw_9_relu (ReLU)        (None, 14, 14, 512)       0         \n",
      "_________________________________________________________________\n",
      "conv_dw_10 (DepthwiseConv2D) (None, 14, 14, 512)       4608      \n",
      "_________________________________________________________________\n",
      "conv_dw_10_bn (BatchNormaliz (None, 14, 14, 512)       2048      \n",
      "_________________________________________________________________\n",
      "conv_dw_10_relu (ReLU)       (None, 14, 14, 512)       0         \n",
      "_________________________________________________________________\n",
      "conv_pw_10 (Conv2D)          (None, 14, 14, 512)       262144    \n",
      "_________________________________________________________________\n",
      "conv_pw_10_bn (BatchNormaliz (None, 14, 14, 512)       2048      \n",
      "_________________________________________________________________\n",
      "conv_pw_10_relu (ReLU)       (None, 14, 14, 512)       0         \n",
      "_________________________________________________________________\n",
      "conv_dw_11 (DepthwiseConv2D) (None, 14, 14, 512)       4608      \n",
      "_________________________________________________________________\n",
      "conv_dw_11_bn (BatchNormaliz (None, 14, 14, 512)       2048      \n",
      "_________________________________________________________________\n",
      "conv_dw_11_relu (ReLU)       (None, 14, 14, 512)       0         \n",
      "_________________________________________________________________\n",
      "conv_pw_11 (Conv2D)          (None, 14, 14, 512)       262144    \n",
      "_________________________________________________________________\n",
      "conv_pw_11_bn (BatchNormaliz (None, 14, 14, 512)       2048      \n",
      "_________________________________________________________________\n",
      "conv_pw_11_relu (ReLU)       (None, 14, 14, 512)       0         \n",
      "_________________________________________________________________\n",
      "conv_pad_12 (ZeroPadding2D)  (None, 15, 15, 512)       0         \n",
      "_________________________________________________________________\n",
      "conv_dw_12 (DepthwiseConv2D) (None, 7, 7, 512)         4608      \n",
      "_________________________________________________________________\n",
      "conv_dw_12_bn (BatchNormaliz (None, 7, 7, 512)         2048      \n",
      "_________________________________________________________________\n",
      "conv_dw_12_relu (ReLU)       (None, 7, 7, 512)         0         \n",
      "_________________________________________________________________\n",
      "conv_pw_12 (Conv2D)          (None, 7, 7, 1024)        524288    \n",
      "_________________________________________________________________\n",
      "conv_pw_12_bn (BatchNormaliz (None, 7, 7, 1024)        4096      \n",
      "_________________________________________________________________\n",
      "conv_pw_12_relu (ReLU)       (None, 7, 7, 1024)        0         \n",
      "_________________________________________________________________\n",
      "conv_dw_13 (DepthwiseConv2D) (None, 7, 7, 1024)        9216      \n",
      "_________________________________________________________________\n",
      "conv_dw_13_bn (BatchNormaliz (None, 7, 7, 1024)        4096      \n",
      "_________________________________________________________________\n",
      "conv_dw_13_relu (ReLU)       (None, 7, 7, 1024)        0         \n",
      "_________________________________________________________________\n",
      "conv_pw_13 (Conv2D)          (None, 7, 7, 1024)        1048576   \n",
      "_________________________________________________________________\n",
      "conv_pw_13_bn (BatchNormaliz (None, 7, 7, 1024)        4096      \n",
      "_________________________________________________________________\n",
      "conv_pw_13_relu (ReLU)       (None, 7, 7, 1024)        0         \n",
      "_________________________________________________________________\n",
      "global_average_pooling2d (Gl (None, 1024)              0         \n",
      "_________________________________________________________________\n",
      "reshape_1 (Reshape)          (None, 1, 1, 1024)        0         \n",
      "_________________________________________________________________\n",
      "dropout (Dropout)            (None, 1, 1, 1024)        0         \n",
      "_________________________________________________________________\n",
      "conv_preds (Conv2D)          (None, 1, 1, 1000)        1025000   \n",
      "_________________________________________________________________\n",
      "reshape_2 (Reshape)          (None, 1000)              0         \n",
      "_________________________________________________________________\n",
      "predictions (Activation)     (None, 1000)              0         \n",
      "=================================================================\n",
      "Total params: 4,253,864\n",
      "Trainable params: 4,231,976\n",
      "Non-trainable params: 21,888\n",
      "_________________________________________________________________\n"
     ]
    }
   ],
   "source": [
    "from keras.applications import mobilenet \n",
    "\n",
    "mob_net = mobilenet.MobileNet(weights='imagenet')\n",
    "mob_net.summary()"
   ]
  },
  {
   "cell_type": "code",
   "execution_count": 39,
   "metadata": {},
   "outputs": [
    {
     "data": {
      "image/png": "[encoded data removed]",
      "text/plain": [
       "<PIL.Image.Image image mode=RGB size=224x224 at 0x18613D760>"
      ]
     },
     "execution_count": 39,
     "metadata": {},
     "output_type": "execute_result"
    }
   ],
   "source": [
    "from keras.preprocessing import image\n",
    "\n",
    "img = image.load_img('noisette-loo.jpg', target_size=(224, 224))\n",
    "img"
   ]
  },
  {
   "cell_type": "code",
   "execution_count": 40,
   "metadata": {},
   "outputs": [
    {
     "data": {
      "text/plain": [
       "PIL.Image.Image"
      ]
     },
     "execution_count": 40,
     "metadata": {},
     "output_type": "execute_result"
    }
   ],
   "source": [
    "type(img)"
   ]
  },
  {
   "cell_type": "code",
   "execution_count": 41,
   "metadata": {},
   "outputs": [
    {
     "data": {
      "text/plain": [
       "(1, 224, 224, 3)"
      ]
     },
     "execution_count": 41,
     "metadata": {},
     "output_type": "execute_result"
    }
   ],
   "source": [
    "img_array = image.img_to_array(img)\n",
    "img_array = np.expand_dims(img_array, axis=0)\n",
    "img_array.shape"
   ]
  },
  {
   "cell_type": "code",
   "execution_count": 42,
   "metadata": {},
   "outputs": [
    {
     "name": "stdout",
     "output_type": "stream",
     "text": [
      "Downloading data from https://storage.googleapis.com/download.tensorflow.org/data/imagenet_class_index.json\n",
      "40960/35363 [==================================] - 0s 1us/step\n"
     ]
    },
    {
     "data": {
      "text/plain": [
       "[[('n02124075', 'Egyptian_cat', 0.8937641),\n",
       "  ('n02123045', 'tabby', 0.0657628),\n",
       "  ('n02123159', 'tiger_cat', 0.025098955),\n",
       "  ('n04589890', 'window_screen', 0.008572062),\n",
       "  ('n02127052', 'lynx', 0.0020095704)]]"
      ]
     },
     "execution_count": 42,
     "metadata": {},
     "output_type": "execute_result"
    }
   ],
   "source": [
    "from keras.applications.imagenet_utils import decode_predictions\n",
    "\n",
    "y_pred = mob_net.predict(mobilenet.preprocess_input(img_array.copy()))\n",
    "decode_predictions(y_pred)"
   ]
  },
  {
   "cell_type": "code",
   "execution_count": 43,
   "metadata": {},
   "outputs": [
    {
     "data": {
      "image/png": "[encoded data removed]",
      "text/plain": [
       "<PIL.Image.Image image mode=RGB size=224x224 at 0x1879C5040>"
      ]
     },
     "execution_count": 43,
     "metadata": {},
     "output_type": "execute_result"
    }
   ],
   "source": [
    "img = image.load_img('brad-pitt.jpg', target_size=(224, 224))\n",
    "img"
   ]
  },
  {
   "cell_type": "code",
   "execution_count": 44,
   "metadata": {},
   "outputs": [
    {
     "data": {
      "text/plain": [
       "[[('n03763968', 'military_uniform', 0.9130216),\n",
       "  ('n04350905', 'suit', 0.0075986874),\n",
       "  ('n03970156', 'plunger', 0.0062510525),\n",
       "  ('n03481172', 'hammer', 0.005169298),\n",
       "  ('n03372029', 'flute', 0.0042592795)]]"
      ]
     },
     "execution_count": 44,
     "metadata": {},
     "output_type": "execute_result"
    }
   ],
   "source": [
    "def classify(img):\n",
    "    img_array = image.img_to_array(img)\n",
    "    img_array = np.expand_dims(img_array, axis=0)\n",
    "    y_pred = mob_net.predict(mobilenet.preprocess_input(img_array.copy()))\n",
    "    return decode_predictions(y_pred)\n",
    "\n",
    "classify(img)"
   ]
  },
  {
   "cell_type": "markdown",
   "metadata": {},
   "source": [
    "By the way, [orientation matters](https://www.reddit.com/r/dataisbeautiful/comments/aydqig/is_it_a_duck_or_a_rabbit_for_google_cloud_vision/)."
   ]
  },
  {
   "cell_type": "markdown",
   "metadata": {},
   "source": [
    "We won't take the time to explain an image classifier prediction, but check out [this](https://distill.pub/2018/building-blocks/) and [this](https://github.com/slundberg/shap#deep-learning-example-with-gradientexplainer-tensorflowkeraspytorch-models) if you're interested."
   ]
  },
  {
   "cell_type": "markdown",
   "metadata": {
    "slideshow": {
     "slide_type": "slide"
    }
   },
   "source": [
    "## Fine-tuning"
   ]
  },
  {
   "cell_type": "markdown",
   "metadata": {},
   "source": [
    "https://github.com/sakares/keras-fine-tune-cat-dog-vgg16/blob/master/inception-v3-fine-tune.py"
   ]
  }
 ],
 "metadata": {
  "celltoolbar": "Slideshow",
  "kernelspec": {
   "display_name": "Python 3",
   "language": "python",
   "name": "python3"
  },
  "language_info": {
   "codemirror_mode": {
    "name": "ipython",
    "version": 3
   },
   "file_extension": ".py",
   "mimetype": "text/x-python",
   "name": "python",
   "nbconvert_exporter": "python",
   "pygments_lexer": "ipython3",
   "version": "3.8.3"
  },
  "rise": {
   "enable_chalkboard": true,
   "scroll": true,
   "theme": "simple"
  }
 },
 "nbformat": 4,
 "nbformat_minor": 2
}
